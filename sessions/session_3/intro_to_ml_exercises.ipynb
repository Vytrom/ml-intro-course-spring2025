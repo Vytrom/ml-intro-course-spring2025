{
 "cells": [
  {
   "cell_type": "markdown",
   "metadata": {
    "id": "50RIPVUdjKiR"
   },
   "source": [
    "# Introduction to Machine Learning and Data Science: Machine Learning basics with Diabetes and Aquatic Toxicity datasets\n",
    "\n",
    "This notebook contains exercises for an introductory course on Machine Learning and Data Science, focusing on a regression and a classification problem with the QSAR Aquatic Toxicity and the Pima Indians Diabetes datasets, respectively.\n",
    "\n",
    "We will cover essential steps in understanding, cleaning, transforming, and analyzing the data using pandas and matplotlib/seaborn. The exercises are divided into basic, intermediate, and advanced levels.\n",
    "\n",
    "**Estimated Time**: 2 Hours\n",
    "\n"
   ]
  },
  {
   "cell_type": "markdown",
   "metadata": {
    "id": "uz1G3RaTsS44"
   },
   "source": [
    "## Setup\n",
    "\n",
    "We already used the Diabetes dataset last week, but here are the names of the columns, since it comes without them:\n",
    "1. Pregnancies\n",
    "2. Glucose\n",
    "3. BloodPressure\n",
    "4. SkinThickness\n",
    "5. Insulin\n",
    "6. BMI\n",
    "7. DiabetesPedigreeFunction\n",
    "8. Age\n",
    "9. Outcome (0 for no diabetes, 1 for diabetes)"
   ]
  },
  {
   "cell_type": "code",
   "execution_count": 1,
   "metadata": {
    "colab": {
     "base_uri": "https://localhost:8080/",
     "height": 206
    },
    "id": "V4r4Cf_ajJ48",
    "outputId": "9de07dbb-2061-43f8-8f5b-dfabb24a6b3f"
   },
   "outputs": [
    {
     "data": {
      "text/html": [
       "<div>\n",
       "<style scoped>\n",
       "    .dataframe tbody tr th:only-of-type {\n",
       "        vertical-align: middle;\n",
       "    }\n",
       "\n",
       "    .dataframe tbody tr th {\n",
       "        vertical-align: top;\n",
       "    }\n",
       "\n",
       "    .dataframe thead th {\n",
       "        text-align: right;\n",
       "    }\n",
       "</style>\n",
       "<table border=\"1\" class=\"dataframe\">\n",
       "  <thead>\n",
       "    <tr style=\"text-align: right;\">\n",
       "      <th></th>\n",
       "      <th>Pregnancies</th>\n",
       "      <th>Glucose</th>\n",
       "      <th>BloodPressure</th>\n",
       "      <th>SkinThickness</th>\n",
       "      <th>Insulin</th>\n",
       "      <th>BMI</th>\n",
       "      <th>DiabetesPedigreeFunction</th>\n",
       "      <th>Age</th>\n",
       "      <th>Outcome</th>\n",
       "    </tr>\n",
       "  </thead>\n",
       "  <tbody>\n",
       "    <tr>\n",
       "      <th>0</th>\n",
       "      <td>6</td>\n",
       "      <td>148</td>\n",
       "      <td>72</td>\n",
       "      <td>35</td>\n",
       "      <td>0</td>\n",
       "      <td>33.6</td>\n",
       "      <td>0.627</td>\n",
       "      <td>50</td>\n",
       "      <td>1</td>\n",
       "    </tr>\n",
       "    <tr>\n",
       "      <th>1</th>\n",
       "      <td>1</td>\n",
       "      <td>85</td>\n",
       "      <td>66</td>\n",
       "      <td>29</td>\n",
       "      <td>0</td>\n",
       "      <td>26.6</td>\n",
       "      <td>0.351</td>\n",
       "      <td>31</td>\n",
       "      <td>0</td>\n",
       "    </tr>\n",
       "    <tr>\n",
       "      <th>2</th>\n",
       "      <td>8</td>\n",
       "      <td>183</td>\n",
       "      <td>64</td>\n",
       "      <td>0</td>\n",
       "      <td>0</td>\n",
       "      <td>23.3</td>\n",
       "      <td>0.672</td>\n",
       "      <td>32</td>\n",
       "      <td>1</td>\n",
       "    </tr>\n",
       "    <tr>\n",
       "      <th>3</th>\n",
       "      <td>1</td>\n",
       "      <td>89</td>\n",
       "      <td>66</td>\n",
       "      <td>23</td>\n",
       "      <td>94</td>\n",
       "      <td>28.1</td>\n",
       "      <td>0.167</td>\n",
       "      <td>21</td>\n",
       "      <td>0</td>\n",
       "    </tr>\n",
       "    <tr>\n",
       "      <th>4</th>\n",
       "      <td>0</td>\n",
       "      <td>137</td>\n",
       "      <td>40</td>\n",
       "      <td>35</td>\n",
       "      <td>168</td>\n",
       "      <td>43.1</td>\n",
       "      <td>2.288</td>\n",
       "      <td>33</td>\n",
       "      <td>1</td>\n",
       "    </tr>\n",
       "  </tbody>\n",
       "</table>\n",
       "</div>"
      ],
      "text/plain": [
       "   Pregnancies  Glucose  BloodPressure  SkinThickness  Insulin   BMI  \\\n",
       "0            6      148             72             35        0  33.6   \n",
       "1            1       85             66             29        0  26.6   \n",
       "2            8      183             64              0        0  23.3   \n",
       "3            1       89             66             23       94  28.1   \n",
       "4            0      137             40             35      168  43.1   \n",
       "\n",
       "   DiabetesPedigreeFunction  Age  Outcome  \n",
       "0                     0.627   50        1  \n",
       "1                     0.351   31        0  \n",
       "2                     0.672   32        1  \n",
       "3                     0.167   21        0  \n",
       "4                     2.288   33        1  "
      ]
     },
     "execution_count": 1,
     "metadata": {},
     "output_type": "execute_result"
    }
   ],
   "source": [
    "import pandas as pd\n",
    "import matplotlib.pyplot as plt\n",
    "import numpy as np\n",
    "import seaborn as sns\n",
    "\n",
    "# URL for the Pima Indians Diabetes dataset\n",
    "url_classification = \"https://raw.githubusercontent.com/jbrownlee/Datasets/master/pima-indians-diabetes.data.csv\"\n",
    "names_classification = ['Pregnancies', 'Glucose', 'BloodPressure', 'SkinThickness', 'Insulin', 'BMI', 'DiabetesPedigreeFunction', 'Age', 'Outcome']\n",
    "\n",
    "# Load the dataset\n",
    "diabetes_df = pd.read_csv(url_classification, names=names_classification)\n",
    "\n",
    "# Display the first few rows to confirm loading\n",
    "diabetes_df.head()\n"
   ]
  },
  {
   "cell_type": "markdown",
   "metadata": {
    "id": "xyfJfQxKsv9I"
   },
   "source": [
    "For the regression dataset, we will use the QSAR Aquatic Toxicity dataset, which was used to develop a quantitative structure-activity relationship models to predict aquatic toxicity towards the fish Pimephales promelas (fathead minnow). LC50, which is the concentration that causes death in 50% of test Daphnia Magma over a test duration of 48 hours, is the target."
   ]
  },
  {
   "cell_type": "code",
   "execution_count": 2,
   "metadata": {
    "colab": {
     "base_uri": "https://localhost:8080/",
     "height": 206
    },
    "id": "Z_Unqw_VpZ1m",
    "outputId": "4cb85a39-5853-4b3a-e127-10945b965a3f"
   },
   "outputs": [
    {
     "data": {
      "text/html": [
       "<div>\n",
       "<style scoped>\n",
       "    .dataframe tbody tr th:only-of-type {\n",
       "        vertical-align: middle;\n",
       "    }\n",
       "\n",
       "    .dataframe tbody tr th {\n",
       "        vertical-align: top;\n",
       "    }\n",
       "\n",
       "    .dataframe thead th {\n",
       "        text-align: right;\n",
       "    }\n",
       "</style>\n",
       "<table border=\"1\" class=\"dataframe\">\n",
       "  <thead>\n",
       "    <tr style=\"text-align: right;\">\n",
       "      <th></th>\n",
       "      <th>Id</th>\n",
       "      <th>TPSA(Tot)</th>\n",
       "      <th>SAacc</th>\n",
       "      <th>H-050</th>\n",
       "      <th>MLOGP</th>\n",
       "      <th>RDCHI</th>\n",
       "      <th>GATS1p</th>\n",
       "      <th>nN</th>\n",
       "      <th>C-040</th>\n",
       "      <th>LC50</th>\n",
       "    </tr>\n",
       "  </thead>\n",
       "  <tbody>\n",
       "    <tr>\n",
       "      <th>0</th>\n",
       "      <td>0</td>\n",
       "      <td>0.00</td>\n",
       "      <td>0.0</td>\n",
       "      <td>0</td>\n",
       "      <td>2.419</td>\n",
       "      <td>1.225</td>\n",
       "      <td>0.667</td>\n",
       "      <td>0</td>\n",
       "      <td>0</td>\n",
       "      <td>3.740</td>\n",
       "    </tr>\n",
       "    <tr>\n",
       "      <th>1</th>\n",
       "      <td>1</td>\n",
       "      <td>0.00</td>\n",
       "      <td>0.0</td>\n",
       "      <td>0</td>\n",
       "      <td>2.638</td>\n",
       "      <td>1.401</td>\n",
       "      <td>0.632</td>\n",
       "      <td>0</td>\n",
       "      <td>0</td>\n",
       "      <td>4.330</td>\n",
       "    </tr>\n",
       "    <tr>\n",
       "      <th>2</th>\n",
       "      <td>2</td>\n",
       "      <td>9.23</td>\n",
       "      <td>11.0</td>\n",
       "      <td>0</td>\n",
       "      <td>5.799</td>\n",
       "      <td>2.930</td>\n",
       "      <td>0.486</td>\n",
       "      <td>0</td>\n",
       "      <td>0</td>\n",
       "      <td>7.019</td>\n",
       "    </tr>\n",
       "    <tr>\n",
       "      <th>3</th>\n",
       "      <td>3</td>\n",
       "      <td>9.23</td>\n",
       "      <td>11.0</td>\n",
       "      <td>0</td>\n",
       "      <td>5.453</td>\n",
       "      <td>2.887</td>\n",
       "      <td>0.495</td>\n",
       "      <td>0</td>\n",
       "      <td>0</td>\n",
       "      <td>6.723</td>\n",
       "    </tr>\n",
       "    <tr>\n",
       "      <th>4</th>\n",
       "      <td>4</td>\n",
       "      <td>9.23</td>\n",
       "      <td>11.0</td>\n",
       "      <td>0</td>\n",
       "      <td>4.068</td>\n",
       "      <td>2.758</td>\n",
       "      <td>0.695</td>\n",
       "      <td>0</td>\n",
       "      <td>0</td>\n",
       "      <td>5.979</td>\n",
       "    </tr>\n",
       "  </tbody>\n",
       "</table>\n",
       "</div>"
      ],
      "text/plain": [
       "   Id  TPSA(Tot)  SAacc  H-050  MLOGP  RDCHI  GATS1p  nN  C-040   LC50\n",
       "0   0       0.00    0.0      0  2.419  1.225   0.667   0      0  3.740\n",
       "1   1       0.00    0.0      0  2.638  1.401   0.632   0      0  4.330\n",
       "2   2       9.23   11.0      0  5.799  2.930   0.486   0      0  7.019\n",
       "3   3       9.23   11.0      0  5.453  2.887   0.495   0      0  6.723\n",
       "4   4       9.23   11.0      0  4.068  2.758   0.695   0      0  5.979"
      ]
     },
     "execution_count": 2,
     "metadata": {},
     "output_type": "execute_result"
    }
   ],
   "source": [
    "url_regression = \"https://raw.githubusercontent.com/readytensor/rt-datasets-regression/refs/heads/main/datasets/processed/aquatic_toxicity/aquatic_toxicity.csv\"\n",
    "\n",
    "aquatic_toxicity_df = pd.read_csv(url_regression)\n",
    "aquatic_toxicity_df.head()"
   ]
  },
  {
   "cell_type": "markdown",
   "metadata": {
    "id": "V7ZeOg0qtktL"
   },
   "source": [
    "## Basic Exercisess (Approx. 45-60 minutes)\n",
    "\n",
    "These exercises focus on the most basic fundamentals of the machine learning pipeline."
   ]
  },
  {
   "cell_type": "markdown",
   "metadata": {
    "id": "GY7vpyDatw5m"
   },
   "source": [
    "### Exercise 1: Splitting the Data\n",
    "\n",
    "1. Separate features (`X`) and target (`y`).\n",
    "2. Perform the data splitting with the `sklearn.model_selection.train_test_split`. Get the training, validation and test sets with a 60/20/20  split. **Only for classification dataset**: perform the splitting with the `stratify` option set to yes. It attempts to keep the percentages of the classes in the different sets.\n",
    "3. Print the shape of both sets, to see how many attributes and samples there are in each."
   ]
  },
  {
   "cell_type": "code",
   "execution_count": 3,
   "metadata": {
    "id": "DnXgMp_4uy-e"
   },
   "outputs": [
    {
     "name": "stdout",
     "output_type": "stream",
     "text": [
      "There are 460 instances in the training set, 154 in the test set, and 154 in the validation set\n",
      "There are 327 instances in the training set, 110 in the test set, and 109 in the validation set\n"
     ]
    }
   ],
   "source": [
    "# Your code for Exercise 1.1\n",
    "from sklearn.model_selection import train_test_split\n",
    "\n",
    "#Classification\n",
    "classification_train_set, classification_test_set = train_test_split(diabetes_df, test_size=0.2, random_state=42)\n",
    "classification_train_set, classification_val_set = train_test_split(classification_train_set, test_size=0.25, random_state=42)\n",
    "print(f\"There are {len(classification_train_set)} instances in the training set, {len(classification_test_set)} in the test set, and {len(classification_val_set)} in the validation set\")\n",
    "\n",
    "y_classification = classification_train_set[\"Outcome\"]\n",
    "x_classification_train_set = classification_train_set.drop(\"Outcome\", axis=1)\n",
    "\n",
    "\n",
    "#Regression\n",
    "regression_train_set, regression_test_set = train_test_split(aquatic_toxicity_df, test_size=0.2, random_state=42)\n",
    "regression_train_set, regression_val_set = train_test_split(regression_train_set, test_size=0.25, random_state=42)\n",
    "print(f\"There are {len(regression_train_set)} instances in the training set, {len(regression_test_set)} in the test set, and {len(regression_val_set)} in the validation set\")\n",
    "\n",
    "y_regression = regression_train_set[\"LC50\"]\n",
    "x_regression_train_set = regression_train_set.drop(\"LC50\", axis=1)"
   ]
  },
  {
   "cell_type": "code",
   "execution_count": 4,
   "metadata": {
    "id": "lc5GDjcuuzYd"
   },
   "outputs": [],
   "source": [
    "# Your code for Exercise 1.2\n"
   ]
  },
  {
   "cell_type": "code",
   "execution_count": 5,
   "metadata": {
    "id": "FLDC-OltuzOs"
   },
   "outputs": [
    {
     "name": "stdout",
     "output_type": "stream",
     "text": [
      "y_classification (460,)\n",
      "x_classification_train_set (460, 8)\n",
      "classification_test_set (154, 9)\n",
      "classification_val_set (154, 9)\n",
      "y_regression (327,)\n",
      "x_regression_train_set (327, 9)\n",
      "regression_test_set (110, 10)\n",
      "regression_val_set (109, 10)\n"
     ]
    }
   ],
   "source": [
    "# Your code for Exercise 1.3\n",
    "print(\"y_classification\", y_classification.shape)\n",
    "print(\"x_classification_train_set\", x_classification_train_set.shape)\n",
    "print(\"classification_test_set\", classification_test_set.shape)\n",
    "print(\"classification_val_set\", classification_val_set.shape)\n",
    "\n",
    "print(\"y_regression\", y_regression.shape)\n",
    "print(\"x_regression_train_set\", x_regression_train_set.shape)\n",
    "print(\"regression_test_set\", regression_test_set.shape)\n",
    "print(\"regression_val_set\", regression_val_set.shape)"
   ]
  },
  {
   "cell_type": "markdown",
   "metadata": {
    "id": "2PwZ5Exhu5D9"
   },
   "source": [
    "### Exercise 2: Training your first models\n",
    "1. Train `LinearRegression` on the regression dataset (Aquatic Toxicity).\n",
    "2. Train `LogisticRegression` on the classification dataset (Diabetes).\n",
    "3. Predict on the test set for each.\n",
    "4. Print first 5 predictions."
   ]
  },
  {
   "cell_type": "code",
   "execution_count": 7,
   "metadata": {
    "id": "dajZyVpIvXl-"
   },
   "outputs": [],
   "source": [
    "# Your code for Exercise 2.1\n",
    "from sklearn.linear_model import LinearRegression, LogisticRegression\n",
    "\n",
    "# 1. Train LinearRegression on Aquatic Toxicity dataset\n",
    "# Prepare regression data\n",
    "y_regression_train = regression_train_set[\"LC50\"]\n",
    "X_regression_train = regression_train_set.drop(\"LC50\", axis=1)\n",
    "X_regression_test = regression_test_set.drop(\"LC50\", axis=1)\n",
    "y_regression_test = regression_test_set[\"LC50\"]\n",
    "\n",
    "# Create and train model\n",
    "lin_reg = LinearRegression()\n",
    "lin_reg.fit(X_regression_train, y_regression_train)\n",
    "\n",
    "# Make predictions\n",
    "regression_predictions = lin_reg.predict(X_regression_test)\n"
   ]
  },
  {
   "cell_type": "code",
   "execution_count": 8,
   "metadata": {
    "id": "h2v1HHCHvXf0"
   },
   "outputs": [],
   "source": [
    "# Your code for Exercise 2.2\n",
    "\n",
    "# 2. Train LogisticRegression on Diabetes dataset\n",
    "# Prepare classification data\n",
    "y_classification_train = classification_train_set[\"Outcome\"]\n",
    "X_classification_train = classification_train_set.drop(\"Outcome\", axis=1)\n",
    "X_classification_test = classification_test_set.drop(\"Outcome\", axis=1)\n",
    "y_classification_test = classification_test_set[\"Outcome\"]\n",
    "\n",
    "# Create and train model\n",
    "log_reg = LogisticRegression(max_iter=1000)  # Increased max_iter for convergence\n",
    "log_reg.fit(X_classification_train, y_classification_train)\n",
    "\n",
    "# Make predictions\n",
    "classification_predictions = log_reg.predict(X_classification_test)\n"
   ]
  },
  {
   "cell_type": "code",
   "execution_count": 9,
   "metadata": {
    "id": "wuPr4ocMvXZe"
   },
   "outputs": [
    {
     "name": "stdout",
     "output_type": "stream",
     "text": [
      "\n",
      "Regression (Aquatic Toxicity) - First 5 predictions:\n",
      "[3.48215926 4.67673874 4.08281244 4.34547864 3.99747216]\n",
      "\n",
      "Classification (Diabetes) - First 5 predictions:\n",
      "[0 0 0 0 0]\n"
     ]
    }
   ],
   "source": [
    "# Your code for Exercise 2.3\n",
    "# 3-4. Print first 5 predictions for each\n",
    "print(\"\\nRegression (Aquatic Toxicity) - First 5 predictions:\")\n",
    "print(regression_predictions[:5])\n",
    "\n",
    "print(\"\\nClassification (Diabetes) - First 5 predictions:\")\n",
    "print(classification_predictions[:5])"
   ]
  },
  {
   "cell_type": "markdown",
   "metadata": {
    "id": "d4QGUlzBvdlE"
   },
   "source": [
    "### Exercise 3: Evaluate your models\n",
    "1. For regression, use the following metrics to check how good your predictions were: `mean_squared_error`, `r2_score`.\n",
    "2. Do the same for classification for these: `accuracy_score`, `confusion_matrix`\n",
    "3. Interpret: Are predictions close? For classification, is there a clear tendency in the model (too many false positives, false negatives, etc.)?"
   ]
  },
  {
   "cell_type": "code",
   "execution_count": 11,
   "metadata": {
    "id": "fJ7dOsgAwPc7"
   },
   "outputs": [
    {
     "name": "stdout",
     "output_type": "stream",
     "text": [
      "==================================================\n",
      "REGRESSION EVALUATION (Aquatic Toxicity)\n",
      "==================================================\n",
      "\n",
      "Mean Squared Error: 1.4843\n",
      "Root Mean Squared Error: 1.2183\n",
      "R-squared Score: 0.4661\n",
      "\n",
      "First 5 predictions vs actual values:\n",
      "Predicted: 3.4822 | Actual: 2.0720 | Difference: 1.4102\n",
      "Predicted: 4.6767 | Actual: 6.8480 | Difference: 2.1713\n",
      "Predicted: 4.0828 | Actual: 3.9020 | Difference: 0.1808\n",
      "Predicted: 4.3455 | Actual: 6.1020 | Difference: 1.7565\n",
      "Predicted: 3.9975 | Actual: 4.0380 | Difference: 0.0405\n",
      "\n",
      "==================================================\n",
      "CLASSIFICATION EVALUATION (Diabetes)\n",
      "==================================================\n",
      "\n",
      "Accuracy: 0.7273\n",
      "Confusion Matrix:\n",
      "[[76 23]\n",
      " [19 36]]\n",
      "\n",
      "True Negatives: 76\n",
      "False Positives: 23\n",
      "False Negatives: 19\n",
      "True Positives: 36\n",
      "\n",
      "First 5 predictions vs actual values:\n",
      "Predicted: 0 | Actual: 0 | CORRECT\n",
      "Predicted: 0 | Actual: 0 | CORRECT\n",
      "Predicted: 0 | Actual: 0 | CORRECT\n",
      "Predicted: 0 | Actual: 0 | CORRECT\n",
      "Predicted: 0 | Actual: 0 | CORRECT\n"
     ]
    }
   ],
   "source": [
    "# Your code for Exercise 3.1\n",
    "from sklearn.metrics import mean_squared_error, r2_score, accuracy_score, confusion_matrix\n",
    "import numpy as np\n",
    "\n",
    "# Regression Evaluation\n",
    "print(\"=\"*50)\n",
    "print(\"REGRESSION EVALUATION (Aquatic Toxicity)\")\n",
    "print(\"=\"*50)\n",
    "\n",
    "# Calculate metrics\n",
    "mse = mean_squared_error(y_regression_test, regression_predictions)\n",
    "rmse = np.sqrt(mse)\n",
    "r2 = r2_score(y_regression_test, regression_predictions)\n",
    "\n",
    "print(f\"\\nMean Squared Error: {mse:.4f}\")\n",
    "print(f\"Root Mean Squared Error: {rmse:.4f}\")\n",
    "print(f\"R-squared Score: {r2:.4f}\")\n",
    "\n",
    "# Compare first 5 predictions with actual values\n",
    "print(\"\\nFirst 5 predictions vs actual values:\")\n",
    "for pred, actual in zip(regression_predictions[:5], y_regression_test[:5]):\n",
    "    print(f\"Predicted: {pred:.4f} | Actual: {actual:.4f} | Difference: {abs(pred-actual):.4f}\")\n",
    "\n",
    "# Classification Evaluation\n",
    "print(\"\\n\" + \"=\"*50)\n",
    "print(\"CLASSIFICATION EVALUATION (Diabetes)\")\n",
    "print(\"=\"*50)\n",
    "\n",
    "# Calculate metrics\n",
    "accuracy = accuracy_score(y_classification_test, classification_predictions)\n",
    "conf_matrix = confusion_matrix(y_classification_test, classification_predictions)\n",
    "\n",
    "print(f\"\\nAccuracy: {accuracy:.4f}\")\n",
    "print(\"Confusion Matrix:\")\n",
    "print(conf_matrix)\n",
    "\n",
    "# Breakdown of confusion matrix\n",
    "tn, fp, fn, tp = conf_matrix.ravel()\n",
    "print(f\"\\nTrue Negatives: {tn}\")\n",
    "print(f\"False Positives: {fp}\")\n",
    "print(f\"False Negatives: {fn}\")\n",
    "print(f\"True Positives: {tp}\")\n",
    "\n",
    "# Compare first 5 predictions with actual values\n",
    "print(\"\\nFirst 5 predictions vs actual values:\")\n",
    "for pred, actual in zip(classification_predictions[:5], y_classification_test[:5]):\n",
    "    print(f\"Predicted: {pred} | Actual: {actual} | {'CORRECT' if pred == actual else 'WRONG'}\")"
   ]
  },
  {
   "cell_type": "code",
   "execution_count": null,
   "metadata": {
    "id": "DF9_0UuWwPWj"
   },
   "outputs": [],
   "source": [
    "# Your code for Exercise 3.2"
   ]
  },
  {
   "cell_type": "markdown",
   "metadata": {
    "id": "YPqWkvzP7fI5"
   },
   "source": [
    "## Intermediate Exercises (Approx. 45-60 minutes)\n",
    "\n",
    "These exercises focus on comparing the performance of multiple models, performing cross-validation and using visualization techniques to understand better the results."
   ]
  },
  {
   "cell_type": "markdown",
   "metadata": {
    "id": "F410JdwL7zQ4"
   },
   "source": [
    "### Exercise 4: Compare multiple models\n",
    "1. For the regression problem: Train and compare `LinearRegression`(already done), `DecisionTreeRegressor`, and `KNeighborsRegressor`.\n",
    "2. For the classification problem: Train and compare `LogisticRegression` (already done), `KNeighborsClassifier`, and `DecisionTreeClassifier`.\n",
    "3. Evaluate using R² score and accuracy each, respectively.\n",
    "4. Which model performs best in each case? Why do you think that might be? Try to understand how the models work. Here is the documentation for each of them:\n",
    "  - [LinearRegression](https://scikit-learn.org/stable/modules/generated/sklearn.linear_model.LinearRegression.html)\n",
    "  - [DecisionTreeRegressor](https://scikit-learn.org/stable/modules/generated/sklearn.tree.DecisionTreeRegressor.html)\n",
    "  - [KNeighborRegressor](https://scikit-learn.org/stable/modules/generated/sklearn.neighbors.KNeighborsRegressor.html)\n",
    "  - [LogisticRegression](https://scikit-learn.org/stable/modules/generated/sklearn.linear_model.LogisticRegression.html)\n",
    "  - [KNeighborsClassifier](https://scikit-learn.org/stable/modules/generated/sklearn.neighbors.KNeighborsClassifier.html)\n",
    "  - [DecisionTreeClassifier](https://scikit-learn.org/stable/modules/generated/sklearn.tree.DecisionTreeClassifier.html)"
   ]
  },
  {
   "cell_type": "code",
   "execution_count": 12,
   "metadata": {
    "id": "XHpZqm3295ew"
   },
   "outputs": [
    {
     "name": "stdout",
     "output_type": "stream",
     "text": [
      "==================================================\n",
      "REGRESSION MODELS COMPARISON\n",
      "==================================================\n",
      "\n",
      "R² Scores:\n",
      "Linear Regression: 0.4661\n",
      "Decision Tree: 0.2086\n",
      "K-Neighbors: -0.1844\n",
      "\n",
      "==================================================\n",
      "CLASSIFICATION MODELS COMPARISON\n",
      "==================================================\n",
      "\n",
      "Accuracy Scores:\n",
      "Logistic Regression: 0.7273\n",
      "Decision Tree: 0.6494\n",
      "K-Neighbors: 0.6883\n",
      "\n",
      "==================================================\n",
      "Best Regression Model: Linear (R² = 0.4661)\n",
      "Best Classification Model: Logistic (Accuracy = 0.7273)\n",
      "==================================================\n"
     ]
    }
   ],
   "source": [
    "# Your code for Exercise 4.1\n",
    "from sklearn.tree import DecisionTreeRegressor, DecisionTreeClassifier\n",
    "from sklearn.neighbors import KNeighborsRegressor, KNeighborsClassifier\n",
    "\n",
    "# Regression Models Comparison\n",
    "print(\"=\"*50)\n",
    "print(\"REGRESSION MODELS COMPARISON\")\n",
    "print(\"=\"*50)\n",
    "\n",
    "# 1. Linear Regression (already trained)\n",
    "lin_reg_r2 = r2_score(y_regression_test, regression_predictions)\n",
    "\n",
    "# 2. Decision Tree Regressor\n",
    "tree_reg = DecisionTreeRegressor(random_state=42)\n",
    "tree_reg.fit(X_regression_train, y_regression_train)\n",
    "tree_reg_pred = tree_reg.predict(X_regression_test)\n",
    "tree_reg_r2 = r2_score(y_regression_test, tree_reg_pred)\n",
    "\n",
    "# 3. K-Neighbors Regressor\n",
    "knn_reg = KNeighborsRegressor()\n",
    "knn_reg.fit(X_regression_train, y_regression_train)\n",
    "knn_reg_pred = knn_reg.predict(X_regression_test)\n",
    "knn_reg_r2 = r2_score(y_regression_test, knn_reg_pred)\n",
    "\n",
    "# Print regression results\n",
    "print(\"\\nR² Scores:\")\n",
    "print(f\"Linear Regression: {lin_reg_r2:.4f}\")\n",
    "print(f\"Decision Tree: {tree_reg_r2:.4f}\")\n",
    "print(f\"K-Neighbors: {knn_reg_r2:.4f}\")\n",
    "\n",
    "# Classification Models Comparison\n",
    "print(\"\\n\" + \"=\"*50)\n",
    "print(\"CLASSIFICATION MODELS COMPARISON\")\n",
    "print(\"=\"*50)\n",
    "\n",
    "# 1. Logistic Regression (already trained)\n",
    "log_reg_acc = accuracy_score(y_classification_test, classification_predictions)\n",
    "\n",
    "# 2. Decision Tree Classifier\n",
    "tree_clf = DecisionTreeClassifier(random_state=42)\n",
    "tree_clf.fit(X_classification_train, y_classification_train)\n",
    "tree_clf_pred = tree_clf.predict(X_classification_test)\n",
    "tree_clf_acc = accuracy_score(y_classification_test, tree_clf_pred)\n",
    "\n",
    "# 3. K-Neighbors Classifier\n",
    "knn_clf = KNeighborsClassifier()\n",
    "knn_clf.fit(X_classification_train, y_classification_train)\n",
    "knn_clf_pred = knn_clf.predict(X_classification_test)\n",
    "knn_clf_acc = accuracy_score(y_classification_test, knn_clf_pred)\n",
    "\n",
    "# Print classification results\n",
    "print(\"\\nAccuracy Scores:\")\n",
    "print(f\"Logistic Regression: {log_reg_acc:.4f}\")\n",
    "print(f\"Decision Tree: {tree_clf_acc:.4f}\")\n",
    "print(f\"K-Neighbors: {knn_clf_acc:.4f}\")\n",
    "\n",
    "# Best performing models\n",
    "best_reg = max([(\"Linear\", lin_reg_r2), (\"Decision Tree\", tree_reg_r2), (\"KNN\", knn_reg_r2)], key=lambda x: x[1])\n",
    "best_clf = max([(\"Logistic\", log_reg_acc), (\"Decision Tree\", tree_clf_acc), (\"KNN\", knn_clf_acc)], key=lambda x: x[1])\n",
    "\n",
    "print(\"\\n\" + \"=\"*50)\n",
    "print(f\"Best Regression Model: {best_reg[0]} (R² = {best_reg[1]:.4f})\")\n",
    "print(f\"Best Classification Model: {best_clf[0]} (Accuracy = {best_clf[1]:.4f})\")\n",
    "print(\"=\"*50)"
   ]
  },
  {
   "cell_type": "code",
   "execution_count": null,
   "metadata": {
    "id": "j7ciu4Z29-ro"
   },
   "outputs": [],
   "source": [
    "# Your code for Exercise 4.2"
   ]
  },
  {
   "cell_type": "code",
   "execution_count": null,
   "metadata": {
    "id": "ZjEfS8yp9_N3"
   },
   "outputs": [],
   "source": [
    "# Your code for Exercise 4.3"
   ]
  },
  {
   "cell_type": "markdown",
   "metadata": {
    "id": "IEOs9Ekm-EBH"
   },
   "source": [
    "### Exercise 5: Cross-validation\n",
    "1. Use `cross_val_score` for the best model in each case, with `cv=5`.\n",
    "2. For classification, try both `accuracy` and `f1` as scoring methods, to compare the trainings in the cross-validation.\n",
    "3. For the regression, use both `r2` and `neg_mean_squared_error`.\n",
    "4. Print mean + std of the scores."
   ]
  },
  {
   "cell_type": "code",
   "execution_count": 14,
   "metadata": {
    "id": "KnX2nISp-CG_"
   },
   "outputs": [
    {
     "name": "stdout",
     "output_type": "stream",
     "text": [
      "==================================================\n",
      "CROSS-VALIDATION FOR LINEAR REGRESSION\n",
      "==================================================\n",
      "\n",
      "R² Scores (Higher is better):\n",
      "Individual Scores: [0.448  0.4518 0.3696 0.3321 0.4631]\n",
      "Mean R²: 0.4129 ± 0.0523\n",
      "\n",
      "MSE Scores (Lower is better):\n",
      "Individual MSEs: [1.4398 1.2885 1.8479 1.6379 1.4751]\n",
      "Mean MSE: 1.5379 ± 0.1907\n",
      "\n",
      "==================================================\n",
      "CROSS-VALIDATION FOR LOGISTIC REGRESSION\n",
      "==================================================\n",
      "\n",
      "Accuracy Scores (Higher is better):\n",
      "Individual Accuracies: [0.7283 0.75   0.7283 0.7609 0.7717]\n",
      "Mean Accuracy: 0.7478 ± 0.0174\n",
      "\n",
      "F1 Scores (Higher is better, good for imbalance):\n",
      "Individual F1: [0.5455 0.623  0.5902 0.5926 0.6441]\n",
      "Mean F1: 0.5990 ± 0.0334\n"
     ]
    }
   ],
   "source": [
    "# Your code for Exercise 5.1 and 5.2\n",
    "from sklearn.model_selection import cross_val_score\n",
    "import numpy as np\n",
    "\n",
    "# ======================\n",
    "# 1. LINEAR REGRESSION (Best Regression Model)\n",
    "# ======================\n",
    "print(\"=\" * 50)\n",
    "print(\"CROSS-VALIDATION FOR LINEAR REGRESSION\")\n",
    "print(\"=\" * 50)\n",
    "\n",
    "# R² Score (Higher is better)\n",
    "r2_scores = cross_val_score(\n",
    "    LinearRegression(), \n",
    "    X_regression_train, \n",
    "    y_regression_train, \n",
    "    cv=5, \n",
    "    scoring='r2'\n",
    ")\n",
    "print(\"\\nR² Scores (Higher is better):\")\n",
    "print(f\"Individual Scores: {r2_scores.round(4)}\")\n",
    "print(f\"Mean R²: {r2_scores.mean():.4f} ± {r2_scores.std():.4f}\")\n",
    "\n",
    "# Negative MSE (We convert to positive MSE for interpretation)\n",
    "neg_mse_scores = cross_val_score(\n",
    "    LinearRegression(), \n",
    "    X_regression_train, \n",
    "    y_regression_train, \n",
    "    cv=5, \n",
    "    scoring='neg_mean_squared_error'\n",
    ")\n",
    "mse_scores = -neg_mse_scores  # Convert to positive MSE\n",
    "print(\"\\nMSE Scores (Lower is better):\")\n",
    "print(f\"Individual MSEs: {mse_scores.round(4)}\")\n",
    "print(f\"Mean MSE: {mse_scores.mean():.4f} ± {mse_scores.std():.4f}\")\n",
    "\n",
    "# ======================\n",
    "# 2. LOGISTIC REGRESSION (Best Classification Model)\n",
    "# ======================\n",
    "print(\"\\n\" + \"=\" * 50)\n",
    "print(\"CROSS-VALIDATION FOR LOGISTIC REGRESSION\")\n",
    "print(\"=\" * 50)\n",
    "\n",
    "# Accuracy (Higher is better)\n",
    "accuracy_scores = cross_val_score(\n",
    "    LogisticRegression(max_iter=1000), \n",
    "    X_classification_train, \n",
    "    y_classification_train, \n",
    "    cv=5, \n",
    "    scoring='accuracy'\n",
    ")\n",
    "print(\"\\nAccuracy Scores (Higher is better):\")\n",
    "print(f\"Individual Accuracies: {accuracy_scores.round(4)}\")\n",
    "print(f\"Mean Accuracy: {accuracy_scores.mean():.4f} ± {accuracy_scores.std():.4f}\")\n",
    "\n",
    "# F1-Score (Better for imbalanced classes)\n",
    "f1_scores = cross_val_score(\n",
    "    LogisticRegression(max_iter=1000), \n",
    "    X_classification_train, \n",
    "    y_classification_train, \n",
    "    cv=5, \n",
    "    scoring='f1'\n",
    ")\n",
    "print(\"\\nF1 Scores (Higher is better, good for imbalance):\")\n",
    "print(f\"Individual F1: {f1_scores.round(4)}\")\n",
    "print(f\"Mean F1: {f1_scores.mean():.4f} ± {f1_scores.std():.4f}\")"
   ]
  },
  {
   "cell_type": "code",
   "execution_count": null,
   "metadata": {
    "id": "Djq-hzew-9w5"
   },
   "outputs": [],
   "source": [
    "# Your code for Exercise 5.1 and 5.3"
   ]
  },
  {
   "cell_type": "code",
   "execution_count": null,
   "metadata": {
    "id": "O6D0TJhm_Ax4"
   },
   "outputs": [],
   "source": [
    "# Your code for Exercise 5.4"
   ]
  },
  {
   "cell_type": "markdown",
   "metadata": {
    "id": "cjgGFfSu_Dhf"
   },
   "source": [
    "### Exercise 6: Classification report and visualization\n",
    "\n",
    "1. Use the `classification_report` function for the classification problem ([link](https://scikit-learn.org/stable/modules/generated/sklearn.metrics.classification_report.html) to documentation)\n",
    "2. Calculate the confusion matrix and plot it using `ConfusionMatrixDisplay`."
   ]
  },
  {
   "cell_type": "code",
   "execution_count": 15,
   "metadata": {
    "id": "iOiej3OiAoqA"
   },
   "outputs": [
    {
     "name": "stdout",
     "output_type": "stream",
     "text": [
      "==================================================\n",
      "CLASSIFICATION REPORT\n",
      "==================================================\n",
      "              precision    recall  f1-score   support\n",
      "\n",
      "           0       0.80      0.77      0.78        99\n",
      "           1       0.61      0.65      0.63        55\n",
      "\n",
      "    accuracy                           0.73       154\n",
      "   macro avg       0.71      0.71      0.71       154\n",
      "weighted avg       0.73      0.73      0.73       154\n",
      "\n",
      "\n",
      "==================================================\n",
      "CONFUSION MATRIX\n",
      "==================================================\n",
      "[[76 23]\n",
      " [19 36]]\n"
     ]
    },
    {
     "data": {
      "image/png": "[encoded data removed]",
      "text/plain": [
       "<Figure size 640x480 with 2 Axes>"
      ]
     },
     "metadata": {},
     "output_type": "display_data"
    }
   ],
   "source": [
    "# Your code for Exercise 6.1\n",
    "\n",
    "from sklearn.metrics import classification_report, confusion_matrix, ConfusionMatrixDisplay\n",
    "import matplotlib.pyplot as plt\n",
    "\n",
    "# 1. Train the best classifier (Logistic Regression) on full training data\n",
    "best_clf = LogisticRegression(max_iter=1000)\n",
    "best_clf.fit(X_classification_train, y_classification_train)\n",
    "\n",
    "# 2. Predict on test set\n",
    "y_pred = best_clf.predict(X_classification_test)\n",
    "\n",
    "# 3. Generate classification report\n",
    "print(\"=\"*50)\n",
    "print(\"CLASSIFICATION REPORT\")\n",
    "print(\"=\"*50)\n",
    "print(classification_report(y_classification_test, y_pred))\n",
    "\n",
    "# 4. Calculate and plot confusion matrix\n",
    "print(\"\\n\" + \"=\"*50)\n",
    "print(\"CONFUSION MATRIX\")\n",
    "print(\"=\"*50)\n",
    "cm = confusion_matrix(y_classification_test, y_pred)\n",
    "print(cm)\n",
    "\n",
    "# 5. Visualize confusion matrix\n",
    "disp = ConfusionMatrixDisplay(confusion_matrix=cm,\n",
    "                             display_labels=best_clf.classes_)\n",
    "disp.plot(cmap='Blues')\n",
    "plt.title('Confusion Matrix for Logistic Regression')\n",
    "plt.show()"
   ]
  },
  {
   "cell_type": "code",
   "execution_count": null,
   "metadata": {
    "id": "vFaNPdewAo8I"
   },
   "outputs": [],
   "source": [
    "# Your code for Exercise 6.2"
   ]
  },
  {
   "cell_type": "markdown",
   "metadata": {
    "id": "Ve2uIRs8A2oA"
   },
   "source": [
    "## Advanced Exercises (Approx. 45-60 min)\n",
    "\n",
    "These exercises explore hyperparameter tuning methods and final model evaluation.\n",
    "\n"
   ]
  },
  {
   "cell_type": "markdown",
   "metadata": {
    "id": "yZk_Uxs-CLjQ"
   },
   "source": [
    "### Exercise 7: Hyperparameter tuning using Grid Search\n",
    "\n",
    "1. Use `GridSearchCV` with `LogisticRegression`. Try this grid: `C=[0.01, 0.1, 1, 10]`, `penalty=['l1', 'l2']`, `solver='liblinear'`.\n",
    "2. You can also run a cross validation with this function. Try a `cv=5`.\n",
    "3. Print what the best parameters and score were.\n",
    "\n",
    "`GridSearchCV` documentation: [here](https://scikit-learn.org/stable/modules/generated/sklearn.model_selection.GridSearchCV.html)."
   ]
  },
  {
   "cell_type": "code",
   "execution_count": 16,
   "metadata": {
    "id": "oTvYTw2oC_Zu"
   },
   "outputs": [
    {
     "name": "stdout",
     "output_type": "stream",
     "text": [
      "Fitting 5 folds for each of 8 candidates, totalling 40 fits\n",
      "==================================================\n",
      "GRID SEARCH RESULTS\n",
      "==================================================\n",
      "Best parameters: {'C': 10, 'penalty': 'l1', 'solver': 'liblinear'}\n",
      "Best cross-validation score (accuracy): 0.7500\n",
      "Test set accuracy with best model: 0.7273\n"
     ]
    }
   ],
   "source": [
    "# Your code for Exercise 7.1\n",
    "from sklearn.model_selection import GridSearchCV\n",
    "\n",
    "# Define the parameter grid\n",
    "param_grid = {\n",
    "    'C': [0.01, 0.1, 1, 10],\n",
    "    'penalty': ['l1', 'l2'],\n",
    "    'solver': ['liblinear']\n",
    "}\n",
    "\n",
    "# Create the GridSearchCV object\n",
    "grid_search = GridSearchCV(\n",
    "    LogisticRegression(max_iter=1000),\n",
    "    param_grid,\n",
    "    cv=5,\n",
    "    scoring='accuracy',  # can change to 'f1' if preferred\n",
    "    verbose=1,\n",
    "    n_jobs=-1  # uses all available CPU cores\n",
    ")\n",
    "\n",
    "# Perform the grid search\n",
    "grid_search.fit(X_classification_train, y_classification_train)\n",
    "\n",
    "# Print the best parameters and score\n",
    "print(\"=\"*50)\n",
    "print(\"GRID SEARCH RESULTS\")\n",
    "print(\"=\"*50)\n",
    "print(f\"Best parameters: {grid_search.best_params_}\")\n",
    "print(f\"Best cross-validation score (accuracy): {grid_search.best_score_:.4f}\")\n",
    "\n",
    "# Evaluate on test set with best model\n",
    "best_logreg = grid_search.best_estimator_\n",
    "test_score = best_logreg.score(X_classification_test, y_classification_test)\n",
    "print(f\"Test set accuracy with best model: {test_score:.4f}\")"
   ]
  },
  {
   "cell_type": "code",
   "execution_count": null,
   "metadata": {
    "id": "kCOL6HixC_qX"
   },
   "outputs": [],
   "source": [
    "# Your code for Exercise 7.2"
   ]
  },
  {
   "cell_type": "code",
   "execution_count": null,
   "metadata": {
    "id": "2tVtJXWOC_1g"
   },
   "outputs": [],
   "source": [
    "# Your code for Exercise 7.3"
   ]
  },
  {
   "cell_type": "markdown",
   "metadata": {
    "id": "vouLijNSDG-n"
   },
   "source": [
    "### Exercise 8: Hyperparameter tuning using Random Search\n",
    "\n",
    "1. Use `RandomizedSearchCV` on the [`Ridge`](https://scikit-learn.org/stable/modules/generated/sklearn.linear_model.Ridge.html) model (for regression). Sample only one parameter: `alpha` from `scipy.stats.uniform(0.01, 10)`.\n",
    "2. Limit the random search to only 10 iterations.\n",
    "3. Print the best alpha and score."
   ]
  },
  {
   "cell_type": "code",
   "execution_count": 17,
   "metadata": {
    "id": "5W0ohNRPERsr"
   },
   "outputs": [
    {
     "name": "stdout",
     "output_type": "stream",
     "text": [
      "==================================================\n",
      "RANDOMIZED SEARCH RESULTS (Ridge Regression)\n",
      "==================================================\n",
      "Best alpha: 3.7554\n",
      "Best R² score: 0.4135\n",
      "Test set R² with best model: 0.4705\n"
     ]
    }
   ],
   "source": [
    "# Your code for Exercise 8.1\n",
    "from sklearn.linear_model import Ridge\n",
    "from sklearn.model_selection import RandomizedSearchCV\n",
    "from scipy.stats import uniform\n",
    "import numpy as np\n",
    "\n",
    "# Define the parameter distribution\n",
    "param_dist = {\n",
    "    'alpha': uniform(0.01, 10)  # Samples from uniform(0.01, 10.01)\n",
    "}\n",
    "\n",
    "# Create RandomizedSearchCV object\n",
    "random_search = RandomizedSearchCV(\n",
    "    Ridge(),\n",
    "    param_distributions=param_dist,\n",
    "    n_iter=10,  # Number of parameter settings sampled\n",
    "    cv=5,\n",
    "    scoring='r2',  # or 'neg_mean_squared_error' if preferred\n",
    "    random_state=42,\n",
    "    n_jobs=-1\n",
    ")\n",
    "\n",
    "# Perform the random search\n",
    "random_search.fit(X_regression_train, y_regression_train)\n",
    "\n",
    "# Print results\n",
    "print(\"=\"*50)\n",
    "print(\"RANDOMIZED SEARCH RESULTS (Ridge Regression)\")\n",
    "print(\"=\"*50)\n",
    "print(f\"Best alpha: {random_search.best_params_['alpha']:.4f}\")\n",
    "print(f\"Best R² score: {random_search.best_score_:.4f}\")\n",
    "\n",
    "# Evaluate on test set\n",
    "best_ridge = random_search.best_estimator_\n",
    "test_score = best_ridge.score(X_regression_test, y_regression_test)\n",
    "print(f\"Test set R² with best model: {test_score:.4f}\")"
   ]
  },
  {
   "cell_type": "code",
   "execution_count": null,
   "metadata": {
    "id": "OaxOz-_dESHY"
   },
   "outputs": [],
   "source": [
    "# Your code for Exercise 8.2"
   ]
  },
  {
   "cell_type": "code",
   "execution_count": null,
   "metadata": {
    "id": "HmklLHX7ER5b"
   },
   "outputs": [],
   "source": [
    "# Your code for Exercise 8.3"
   ]
  },
  {
   "cell_type": "markdown",
   "metadata": {
    "id": "-jrGgn8oESsb"
   },
   "source": [
    "### Exercise 9: Final model & test evaluation\n",
    "\n",
    "1. Take the best model from Grid/Random search\n",
    "2. Predict on test set\n",
    "3. Print final metrics\n"
   ]
  },
  {
   "cell_type": "code",
   "execution_count": 18,
   "metadata": {
    "id": "V8W2kmSVE1iM"
   },
   "outputs": [
    {
     "name": "stdout",
     "output_type": "stream",
     "text": [
      "==================================================\n",
      "FINAL CLASSIFICATION MODEL PERFORMANCE\n",
      "==================================================\n",
      "\n",
      "Classification Report:\n",
      "              precision    recall  f1-score   support\n",
      "\n",
      "           0       0.80      0.77      0.78        99\n",
      "           1       0.61      0.65      0.63        55\n",
      "\n",
      "    accuracy                           0.73       154\n",
      "   macro avg       0.71      0.71      0.71       154\n",
      "weighted avg       0.73      0.73      0.73       154\n",
      "\n",
      "Confusion Matrix:\n",
      "[[76 23]\n",
      " [19 36]]\n",
      "\n",
      "Key Metrics:\n",
      "Accuracy: 0.7273\n",
      "F1 Score: 0.6316\n",
      "ROC AUC: 0.7978\n",
      "\n",
      "==================================================\n",
      "FINAL REGRESSION MODEL PERFORMANCE\n",
      "==================================================\n",
      "\n",
      "Regression Metrics:\n",
      "R² Score: 0.4705\n",
      "Mean Squared Error: 1.4719\n",
      "Root MSE: 1.2132\n",
      "Mean Absolute Error: 0.9165\n",
      "\n",
      "==================================================\n",
      "BEST MODEL PARAMETERS SUMMARY\n",
      "==================================================\n",
      "Classification (Logistic Regression):\n",
      "Best params: {'C': 10, 'penalty': 'l1', 'solver': 'liblinear'}\n",
      "CV Accuracy: 0.7500\n",
      "\n",
      "Regression (Ridge):\n",
      "Best alpha: 3.7554\n",
      "CV R²: 0.4135\n"
     ]
    }
   ],
   "source": [
    "# Your code for Exercise 9.1\n",
    "# =============================================\n",
    "# 1. CLASSIFICATION (Best Logistic Regression from GridSearchCV)\n",
    "# =============================================\n",
    "print(\"=\"*50)\n",
    "print(\"FINAL CLASSIFICATION MODEL PERFORMANCE\")\n",
    "print(\"=\"*50)\n",
    "\n",
    "# Get best classifier and predict\n",
    "best_clf = grid_search.best_estimator_\n",
    "y_pred_clf = best_clf.predict(X_classification_test)\n",
    "y_pred_proba_clf = best_clf.predict_proba(X_classification_test)[:, 1]  # Probabilities for AUC\n",
    "\n",
    "# Classification metrics\n",
    "from sklearn.metrics import accuracy_score, f1_score, roc_auc_score, confusion_matrix\n",
    "\n",
    "print(\"\\nClassification Report:\")\n",
    "print(classification_report(y_classification_test, y_pred_clf))\n",
    "\n",
    "print(\"Confusion Matrix:\")\n",
    "print(confusion_matrix(y_classification_test, y_pred_clf))\n",
    "\n",
    "print(\"\\nKey Metrics:\")\n",
    "print(f\"Accuracy: {accuracy_score(y_classification_test, y_pred_clf):.4f}\")\n",
    "print(f\"F1 Score: {f1_score(y_classification_test, y_pred_clf):.4f}\")\n",
    "print(f\"ROC AUC: {roc_auc_score(y_classification_test, y_pred_proba_clf):.4f}\")\n",
    "\n",
    "# =============================================\n",
    "# 2. REGRESSION (Best Ridge from RandomizedSearchCV)\n",
    "# =============================================\n",
    "print(\"\\n\" + \"=\"*50)\n",
    "print(\"FINAL REGRESSION MODEL PERFORMANCE\")\n",
    "print(\"=\"*50)\n",
    "\n",
    "# Get best regressor and predict\n",
    "best_reg = random_search.best_estimator_\n",
    "y_pred_reg = best_reg.predict(X_regression_test)\n",
    "\n",
    "# Regression metrics\n",
    "from sklearn.metrics import mean_squared_error, r2_score, mean_absolute_error\n",
    "\n",
    "print(\"\\nRegression Metrics:\")\n",
    "print(f\"R² Score: {r2_score(y_regression_test, y_pred_reg):.4f}\")\n",
    "print(f\"Mean Squared Error: {mean_squared_error(y_regression_test, y_pred_reg):.4f}\")\n",
    "print(f\"Root MSE: {np.sqrt(mean_squared_error(y_regression_test, y_pred_reg)):.4f}\")\n",
    "print(f\"Mean Absolute Error: {mean_absolute_error(y_regression_test, y_pred_reg):.4f}\")\n",
    "\n",
    "# =============================================\n",
    "# 3. Best Parameters Summary\n",
    "# =============================================\n",
    "print(\"\\n\" + \"=\"*50)\n",
    "print(\"BEST MODEL PARAMETERS SUMMARY\")\n",
    "print(\"=\"*50)\n",
    "print(\"Classification (Logistic Regression):\")\n",
    "print(f\"Best params: {grid_search.best_params_}\")\n",
    "print(f\"CV Accuracy: {grid_search.best_score_:.4f}\")\n",
    "\n",
    "print(\"\\nRegression (Ridge):\")\n",
    "print(f\"Best alpha: {random_search.best_params_['alpha']:.4f}\")\n",
    "print(f\"CV R²: {random_search.best_score_:.4f}\")"
   ]
  },
  {
   "cell_type": "code",
   "execution_count": null,
   "metadata": {
    "id": "l_hWHysLE1zo"
   },
   "outputs": [],
   "source": [
    "# Your code for Exercise 9.2"
   ]
  },
  {
   "cell_type": "code",
   "execution_count": null,
   "metadata": {
    "id": "kjxZa6i2E2CC"
   },
   "outputs": [],
   "source": [
    "# Your code for Exercise 9.3"
   ]
  }
 ],
 "metadata": {
  "colab": {
   "provenance": []
  },
  "kernelspec": {
   "display_name": "Python 3 (ipykernel)",
   "language": "python",
   "name": "python3"
  },
  "language_info": {
   "codemirror_mode": {
    "name": "ipython",
    "version": 3
   },
   "file_extension": ".py",
   "mimetype": "text/x-python",
   "name": "python",
   "nbconvert_exporter": "python",
   "pygments_lexer": "ipython3",
   "version": "3.13.2"
  }
 },
 "nbformat": 4,
 "nbformat_minor": 4
}
